{
 "cells": [
  {
   "cell_type": "code",
   "execution_count": 8,
   "id": "7d31cb43-e7c4-4160-a842-d0143696ad98",
   "metadata": {},
   "outputs": [
    {
     "name": "stdout",
     "output_type": "stream",
     "text": [
      "Child\n",
      "Father\n",
      "Grand Father\n"
     ]
    }
   ],
   "source": [
    "class Gfather:\n",
    "    def gfshow(self):\n",
    "        print(\"Grand Father\")\n",
    "\n",
    "class Father(Gfather):\n",
    "    def fshow(self):\n",
    "        print(\"Father\")\n",
    "\n",
    "class Child(Father):\n",
    "    def cshow(self):\n",
    "        print(\"Child\")\n",
    "\n",
    "c = Child()\n",
    "c.cshow()\n",
    "c.fshow()\n",
    "c.gfshow()\n",
    "\n"
   ]
  },
  {
   "cell_type": "code",
   "execution_count": null,
   "id": "a40ce124-82d2-411e-b80a-766a1838729b",
   "metadata": {},
   "outputs": [],
   "source": []
  }
 ],
 "metadata": {
  "kernelspec": {
   "display_name": "Python 3 (ipykernel)",
   "language": "python",
   "name": "python3"
  },
  "language_info": {
   "codemirror_mode": {
    "name": "ipython",
    "version": 3
   },
   "file_extension": ".py",
   "mimetype": "text/x-python",
   "name": "python",
   "nbconvert_exporter": "python",
   "pygments_lexer": "ipython3",
   "version": "3.10.5"
  }
 },
 "nbformat": 4,
 "nbformat_minor": 5
}
