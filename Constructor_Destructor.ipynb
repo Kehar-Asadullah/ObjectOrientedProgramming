{
 "cells": [
  {
   "cell_type": "code",
   "execution_count": 9,
   "id": "24264948-89e9-44d8-bd08-723cd54c0310",
   "metadata": {},
   "outputs": [
    {
     "name": "stdout",
     "output_type": "stream",
     "text": [
      "A constructor is executed\n",
      "<class 'Student'>\n",
      "A destructor is executed\n"
     ]
    },
    {
     "ename": "NameError",
     "evalue": "name 'obj' is not defined",
     "output_type": "error",
     "traceback": [
      "\u001b[1;31m---------------------------------------------------------------------------\u001b[0m",
      "\u001b[1;31mNameError\u001b[0m                                 Traceback (most recent call last)",
      "Cell \u001b[1;32mIn[9], line 20\u001b[0m\n\u001b[0;32m     18\u001b[0m obj\u001b[38;5;241m.\u001b[39minfo()\n\u001b[0;32m     19\u001b[0m \u001b[38;5;28;01mdel\u001b[39;00m obj\n\u001b[1;32m---> 20\u001b[0m \u001b[38;5;28mprint\u001b[39m(\u001b[43mobj\u001b[49m)\n",
      "\u001b[1;31mNameError\u001b[0m: name 'obj' is not defined"
     ]
    }
   ],
   "source": [
    "class Student:\n",
    "    def __init__(self, name, age):\n",
    "        print(\"A constructor is executed\")\n",
    "        self.name = name\n",
    "        self.age = age\n",
    "    def __str__(self):\n",
    "        return f\"<class 'Student'>\"\n",
    "        \n",
    "\n",
    "    def info(self):\n",
    "        return f\"Name= {self.name}, age= {self.age}\"\n",
    "\n",
    "    def __del__(self):\n",
    "        print( f\"A destructor is executed\")\n",
    "\n",
    "obj = Student(\"Ali\", 35)\n",
    "print(obj)\n",
    "obj.info()\n",
    "del obj\n",
    "\n"
   ]
  },
  {
   "cell_type": "code",
   "execution_count": null,
   "id": "8e69cdf2-8c46-4d05-b488-cd2bed9ff4e7",
   "metadata": {},
   "outputs": [],
   "source": []
  }
 ],
 "metadata": {
  "kernelspec": {
   "display_name": "Python 3 (ipykernel)",
   "language": "python",
   "name": "python3"
  },
  "language_info": {
   "codemirror_mode": {
    "name": "ipython",
    "version": 3
   },
   "file_extension": ".py",
   "mimetype": "text/x-python",
   "name": "python",
   "nbconvert_exporter": "python",
   "pygments_lexer": "ipython3",
   "version": "3.10.5"
  }
 },
 "nbformat": 4,
 "nbformat_minor": 5
}
