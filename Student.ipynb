{
 "cells": [
  {
   "cell_type": "code",
   "execution_count": 9,
   "id": "941cddaa-ce90-4d5b-b511-dec5aa58b586",
   "metadata": {},
   "outputs": [
    {
     "name": "stdout",
     "output_type": "stream",
     "text": [
      "A constructor is executed\n",
      "A destructor is executed\n",
      "<class 'Employee'>\n",
      "<class 'int'>\n"
     ]
    }
   ],
   "source": [
    "class Student:\n",
    "    def __init__(self,name,age):\n",
    "        print(\"A constructor is executed\")\n",
    "        self.name = name\n",
    "        self.age = age\n",
    "\n",
    "    def __del__(self):\n",
    "        print(\"A destructor is executed\")\n",
    "\n",
    "    def __str__(self):\n",
    "        return f\"<class 'Employee'>\"\n",
    "\n",
    "obj = Student(\"Asad\",35)\n",
    "\n",
    "print(obj)\n",
    "a = 10\n",
    "print(type(a))"
   ]
  },
  {
   "cell_type": "code",
   "execution_count": null,
   "id": "9d2ecc29-debd-4ce5-9e25-2680ba499d44",
   "metadata": {},
   "outputs": [],
   "source": []
  },
  {
   "cell_type": "code",
   "execution_count": null,
   "id": "ac1e2b56-ed9e-49d9-b2d9-fbbf0a1ac970",
   "metadata": {},
   "outputs": [],
   "source": []
  },
  {
   "cell_type": "code",
   "execution_count": null,
   "id": "1d9664d6-c043-4f42-878e-062da0cd8be5",
   "metadata": {},
   "outputs": [],
   "source": []
  }
 ],
 "metadata": {
  "kernelspec": {
   "display_name": "Python 3 (ipykernel)",
   "language": "python",
   "name": "python3"
  },
  "language_info": {
   "codemirror_mode": {
    "name": "ipython",
    "version": 3
   },
   "file_extension": ".py",
   "mimetype": "text/x-python",
   "name": "python",
   "nbconvert_exporter": "python",
   "pygments_lexer": "ipython3",
   "version": "3.10.5"
  }
 },
 "nbformat": 4,
 "nbformat_minor": 5
}
