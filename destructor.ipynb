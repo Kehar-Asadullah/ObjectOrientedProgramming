{
 "cells": [
  {
   "cell_type": "code",
   "execution_count": 9,
   "id": "316412cf-2224-414c-b188-130155af6c6a",
   "metadata": {},
   "outputs": [
    {
     "name": "stdout",
     "output_type": "stream",
     "text": [
      "A Constructor is called\n",
      "A desctructor is called\n",
      "<class 'Employee'>\n"
     ]
    }
   ],
   "source": [
    "class Employee:\n",
    "    def __init__(self, num, name, salary):\n",
    "        print(\"A Constructor is called\")\n",
    "        self.num = num\n",
    "        self.name = name\n",
    "        self.salary = salary\n",
    "\n",
    "    def __del__(self):\n",
    "        print(\"A desctructor is called\")\n",
    "\n",
    "    def __str__(self):\n",
    "        return f\"<class 'Employee'>\"\n",
    "\n",
    "obj = Employee(10,\"Ali\",50000)\n",
    "#print(f\"Num = {obj.num}, Name = {obj.name} and Salary = {obj.salary}\")\n",
    "#del obj\n",
    "print(obj)\n",
    "\n",
    "\n"
   ]
  },
  {
   "cell_type": "code",
   "execution_count": null,
   "id": "1358664a-ccfd-4d15-8c7a-f4adcd7adeea",
   "metadata": {},
   "outputs": [],
   "source": []
  },
  {
   "cell_type": "code",
   "execution_count": null,
   "id": "a1b41e6a-6bb8-4e5b-a7c9-5ab521dd328b",
   "metadata": {},
   "outputs": [],
   "source": []
  }
 ],
 "metadata": {
  "kernelspec": {
   "display_name": "Python 3 (ipykernel)",
   "language": "python",
   "name": "python3"
  },
  "language_info": {
   "codemirror_mode": {
    "name": "ipython",
    "version": 3
   },
   "file_extension": ".py",
   "mimetype": "text/x-python",
   "name": "python",
   "nbconvert_exporter": "python",
   "pygments_lexer": "ipython3",
   "version": "3.10.5"
  }
 },
 "nbformat": 4,
 "nbformat_minor": 5
}
