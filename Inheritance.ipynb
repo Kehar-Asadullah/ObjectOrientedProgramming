{
 "cells": [
  {
   "cell_type": "code",
   "execution_count": 16,
   "id": "f16f7413-2304-4f1a-b066-f631ccc5ebca",
   "metadata": {},
   "outputs": [
    {
     "name": "stdout",
     "output_type": "stream",
     "text": [
      "Num = 100, Name=Ali\n",
      "Num = 200, Name=Asad\n",
      "Sub=cs\n"
     ]
    }
   ],
   "source": [
    "class Employee:\n",
    "    def __init__(self, num, name):\n",
    "        self.num = num\n",
    "        self.name = name\n",
    "    def info(self):\n",
    "        print(f\"Num = {self.num}, Name={self.name}\")\n",
    "\n",
    "class Teacher(Employee):\n",
    "    def __init__(self, num, name, sub):\n",
    "        super().__init__(num, name)\n",
    "        self.sub=sub\n",
    "    def info(self):\n",
    "        super().info()\n",
    "        print(f\"Sub={self.sub}\")\n",
    "\n",
    "emp = Employee(100,\"Ali\")\n",
    "teach = Teacher(200, \"Asad\",\"cs\")\n",
    "emp.info()\n",
    "teach.info()\n"
   ]
  },
  {
   "cell_type": "code",
   "execution_count": null,
   "id": "444f7a01-33f4-4099-aecb-881a2200e3d3",
   "metadata": {},
   "outputs": [],
   "source": []
  },
  {
   "cell_type": "code",
   "execution_count": null,
   "id": "f68d35b8-95b3-4958-91a4-bbd54212c60b",
   "metadata": {},
   "outputs": [],
   "source": []
  }
 ],
 "metadata": {
  "kernelspec": {
   "display_name": "Python 3 (ipykernel)",
   "language": "python",
   "name": "python3"
  },
  "language_info": {
   "codemirror_mode": {
    "name": "ipython",
    "version": 3
   },
   "file_extension": ".py",
   "mimetype": "text/x-python",
   "name": "python",
   "nbconvert_exporter": "python",
   "pygments_lexer": "ipython3",
   "version": "3.10.5"
  }
 },
 "nbformat": 4,
 "nbformat_minor": 5
}
